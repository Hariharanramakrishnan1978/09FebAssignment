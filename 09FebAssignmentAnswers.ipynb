{
 "cells": [
  {
   "cell_type": "markdown",
   "id": "e8bd6bb8-0eac-4b52-85b6-27c82517d056",
   "metadata": {},
   "source": [
    "Q1. Create a vehicle class with an init method having instance variables as name_of_vehicle, max_speed \n",
    "and average_of_vehicle."
   ]
  },
  {
   "cell_type": "code",
   "execution_count": 1,
   "id": "9387b297-833e-446b-909d-581a893f9930",
   "metadata": {},
   "outputs": [
    {
     "name": "stdout",
     "output_type": "stream",
     "text": [
      "TVS Jupiter\n",
      "90\n",
      "35\n"
     ]
    }
   ],
   "source": [
    "class Vehicle:\n",
    "\n",
    "    def __init__(self, name_of_vehicle, max_speed,average_of_vehicle):\n",
    "        self.name_of_vehicle = name_of_vehicle\n",
    "        self.max_speed = max_speed\n",
    "        self.average_of_vehicle = average_of_vehicle\n",
    "\n",
    "new_Vehicle = Vehicle(\"TVS Jupiter\",90,35)\n",
    "print(new_Vehicle.name_of_vehicle)\n",
    "print(new_Vehicle.max_speed)\n",
    "print(new_Vehicle.average_of_vehicle)"
   ]
  },
  {
   "cell_type": "markdown",
   "id": "163ed1f8-ae0a-4e00-8e57-f5cacf97aa46",
   "metadata": {},
   "source": [
    "Q2.  Create a child class car from the vehicle class created in Que 1, which will inherit the vehicle class. \n",
    "Create a method named seating_capacity which takes capacity as an argument and returns the name of \n",
    "the vehicle and its seating capacity."
   ]
  },
  {
   "cell_type": "code",
   "execution_count": 2,
   "id": "d2c21708-246d-4643-ba4d-514ff9281e03",
   "metadata": {},
   "outputs": [
    {
     "name": "stdout",
     "output_type": "stream",
     "text": [
      "('Alto', 5)\n"
     ]
    }
   ],
   "source": [
    "class Vehicle:\n",
    "\n",
    "    def __init__(self, name_of_vehicle, max_speed,average_of_vehicle):\n",
    "        self.name_of_vehicle = name_of_vehicle\n",
    "        self.max_speed = max_speed\n",
    "        self.average_of_vehicle = average_of_vehicle\n",
    "\n",
    "class car(Vehicle):\n",
    "    def seating_capacity(self,capacity):\n",
    "        return self.name_of_vehicle,capacity\n",
    "\n",
    "Altocar = car(\"Alto\",200,40)\n",
    "Cardata=Altocar.seating_capacity(5)\n",
    "print((Cardata))"
   ]
  },
  {
   "cell_type": "markdown",
   "id": "aba244b0-0039-4127-bab6-2ac42a0b75aa",
   "metadata": {},
   "source": [
    "Q3. What is multiple inheritance? Write a python code to demonstrate multiple inheritance."
   ]
  },
  {
   "cell_type": "markdown",
   "id": "e54d0c70-8752-46e8-b3a1-69530dc87fc0",
   "metadata": {},
   "source": [
    "When a class is derived from more than one base class it is called multiple Inheritance. The derived class inherits all the features of the base case."
   ]
  },
  {
   "cell_type": "code",
   "execution_count": 3,
   "id": "13af3a3b-25b2-4a16-97ef-f2dbcf90eadb",
   "metadata": {},
   "outputs": [
    {
     "name": "stdout",
     "output_type": "stream",
     "text": [
      "Mammals can give direct birth.\n",
      "Winged animals can flap.\n"
     ]
    }
   ],
   "source": [
    "class Mammal:\n",
    "    def mammal_info(self):\n",
    "        print(\"Mammals can give direct birth.\")\n",
    "\n",
    "class WingedAnimal:\n",
    "    def winged_animal_info(self):\n",
    "        print(\"Winged animals can flap.\")\n",
    "\n",
    "class Bat(Mammal, WingedAnimal):\n",
    "    pass\n",
    "\n",
    "# create an object of Bat class\n",
    "b1 = Bat()\n",
    "\n",
    "b1.mammal_info()\n",
    "b1.winged_animal_info()"
   ]
  },
  {
   "cell_type": "markdown",
   "id": "7f4c77fc-42f0-4974-84bd-2be3f25296ab",
   "metadata": {},
   "source": [
    "Q4. What are getter and setter in python? Create a class and create a getter and a setter method in this \n",
    "class."
   ]
  },
  {
   "cell_type": "markdown",
   "id": "b5b17a48-8271-4690-ac17-84521c8534b7",
   "metadata": {},
   "source": [
    "The main purpose of using getters and setters in object-oriented programs is to ensure data encapsulation. We use getters & setters to add validation logic around getting and setting a value. To avoid direct access of a class field i.e. private variables cannot be accessed directly or modified by external user."
   ]
  },
  {
   "cell_type": "code",
   "execution_count": 4,
   "id": "228e3b4b-b312-4388-ad3d-e22a2b34e971",
   "metadata": {},
   "outputs": [
    {
     "name": "stdout",
     "output_type": "stream",
     "text": [
      "42\n",
      "Age of kumar from direct variable access is 42\n"
     ]
    }
   ],
   "source": [
    "class GetSetage:\n",
    "    def __init__(self, age=0):\n",
    "        self._age = age\n",
    "\n",
    "    # getter method\n",
    "    def get_age(self):\n",
    "        return self._age\n",
    "\n",
    "    # setter method\n",
    "    def set_age(self, x):\n",
    "        self._age = x\n",
    "\n",
    "\n",
    "kumar = GetSetage()\n",
    "\n",
    "# setting the age using setter\n",
    "kumar.set_age(42)\n",
    "\n",
    "# retrieving age using getter\n",
    "print(kumar.get_age())\n",
    "print(\"Age of kumar from direct variable access is \"+str(kumar._age))\n"
   ]
  },
  {
   "cell_type": "markdown",
   "id": "01847ee6-5d96-48ab-bda3-0b2729298683",
   "metadata": {},
   "source": [
    "Q5.What is method overriding in python? Write a python code to demonstrate method overriding."
   ]
  },
  {
   "cell_type": "markdown",
   "id": "0473a200-237a-43af-a8fb-62c8f151c789",
   "metadata": {},
   "source": [
    "Method overriding is an ability of any object-oriented programming language that allows a subclass or child class to provide a specific implementation of a method that is already provided by one of its super-classes or parent classes. When a method in a subclass has the same name, same parameters or signature and same return type(or sub-type) as a method in its super-class, then the method in the subclass is said to override the method in the super-class"
   ]
  },
  {
   "cell_type": "code",
   "execution_count": 5,
   "id": "2b68fdf7-9f95-4635-9ab0-4108cb75d906",
   "metadata": {},
   "outputs": [
    {
     "name": "stdout",
     "output_type": "stream",
     "text": [
      "Inside Parent\n",
      "Inside Child\n"
     ]
    }
   ],
   "source": [
    "\n",
    "class Parent():\n",
    "\n",
    "    def show(self):\n",
    "        print(\"Inside Parent\")\n",
    "\n",
    "\n",
    "class Child(Parent):\n",
    "\n",
    "    def show(self):\n",
    "        # Calling the parent's class\n",
    "        # method\n",
    "        Parent.show(self)\n",
    "        print(\"Inside Child\")\n",
    "\n",
    "\n",
    "# Driver's code\n",
    "obj = Child()\n",
    "obj.show()"
   ]
  },
  {
   "cell_type": "code",
   "execution_count": null,
   "id": "f0e82cd1-201c-4a3a-bbe3-a189f28f0fc7",
   "metadata": {},
   "outputs": [],
   "source": []
  }
 ],
 "metadata": {
  "kernelspec": {
   "display_name": "Python 3 (ipykernel)",
   "language": "python",
   "name": "python3"
  },
  "language_info": {
   "codemirror_mode": {
    "name": "ipython",
    "version": 3
   },
   "file_extension": ".py",
   "mimetype": "text/x-python",
   "name": "python",
   "nbconvert_exporter": "python",
   "pygments_lexer": "ipython3",
   "version": "3.10.8"
  }
 },
 "nbformat": 4,
 "nbformat_minor": 5
}
